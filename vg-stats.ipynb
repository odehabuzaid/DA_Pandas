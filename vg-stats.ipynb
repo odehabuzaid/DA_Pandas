{
 "cells": [
  {
   "cell_type": "markdown",
   "metadata": {},
   "source": [
    "# Data Analysis with Pandas\n",
    "## Dataset : vgs_ds\n",
    "## Odeh Abuzaid\n",
    "## 25/10/2021"
   ]
  },
  {
   "cell_type": "code",
   "execution_count": 462,
   "metadata": {},
   "outputs": [],
   "source": [
    "import pandas as dt\n",
    "import matplotlib.pyplot as plt"
   ]
  },
  {
   "cell_type": "code",
   "execution_count": 463,
   "metadata": {},
   "outputs": [
    {
     "data": {
      "text/html": [
       "<div>\n",
       "<style scoped>\n",
       "    .dataframe tbody tr th:only-of-type {\n",
       "        vertical-align: middle;\n",
       "    }\n",
       "\n",
       "    .dataframe tbody tr th {\n",
       "        vertical-align: top;\n",
       "    }\n",
       "\n",
       "    .dataframe thead th {\n",
       "        text-align: right;\n",
       "    }\n",
       "</style>\n",
       "<table border=\"1\" class=\"dataframe\">\n",
       "  <thead>\n",
       "    <tr style=\"text-align: right;\">\n",
       "      <th></th>\n",
       "      <th>Rank</th>\n",
       "      <th>Name</th>\n",
       "      <th>Platform</th>\n",
       "      <th>Year</th>\n",
       "      <th>Genre</th>\n",
       "      <th>Publisher</th>\n",
       "      <th>NA_Sales</th>\n",
       "      <th>EU_Sales</th>\n",
       "      <th>JP_Sales</th>\n",
       "      <th>Other_Sales</th>\n",
       "      <th>Global_Sales</th>\n",
       "    </tr>\n",
       "  </thead>\n",
       "  <tbody>\n",
       "    <tr>\n",
       "      <th>0</th>\n",
       "      <td>1</td>\n",
       "      <td>Wii Sports</td>\n",
       "      <td>Wii</td>\n",
       "      <td>2006.0</td>\n",
       "      <td>Sports</td>\n",
       "      <td>Nintendo</td>\n",
       "      <td>41.49</td>\n",
       "      <td>29.02</td>\n",
       "      <td>3.77</td>\n",
       "      <td>8.46</td>\n",
       "      <td>82.74</td>\n",
       "    </tr>\n",
       "    <tr>\n",
       "      <th>1</th>\n",
       "      <td>2</td>\n",
       "      <td>Super Mario Bros.</td>\n",
       "      <td>NES</td>\n",
       "      <td>1985.0</td>\n",
       "      <td>Platform</td>\n",
       "      <td>Nintendo</td>\n",
       "      <td>29.08</td>\n",
       "      <td>3.58</td>\n",
       "      <td>6.81</td>\n",
       "      <td>0.77</td>\n",
       "      <td>40.24</td>\n",
       "    </tr>\n",
       "    <tr>\n",
       "      <th>2</th>\n",
       "      <td>3</td>\n",
       "      <td>Mario Kart Wii</td>\n",
       "      <td>Wii</td>\n",
       "      <td>2008.0</td>\n",
       "      <td>Racing</td>\n",
       "      <td>Nintendo</td>\n",
       "      <td>15.85</td>\n",
       "      <td>12.88</td>\n",
       "      <td>3.79</td>\n",
       "      <td>3.31</td>\n",
       "      <td>35.82</td>\n",
       "    </tr>\n",
       "    <tr>\n",
       "      <th>3</th>\n",
       "      <td>4</td>\n",
       "      <td>Wii Sports Resort</td>\n",
       "      <td>Wii</td>\n",
       "      <td>2009.0</td>\n",
       "      <td>Sports</td>\n",
       "      <td>Nintendo</td>\n",
       "      <td>15.75</td>\n",
       "      <td>11.01</td>\n",
       "      <td>3.28</td>\n",
       "      <td>2.96</td>\n",
       "      <td>33.00</td>\n",
       "    </tr>\n",
       "    <tr>\n",
       "      <th>4</th>\n",
       "      <td>5</td>\n",
       "      <td>Pokemon Red/Pokemon Blue</td>\n",
       "      <td>GB</td>\n",
       "      <td>1996.0</td>\n",
       "      <td>Role-Playing</td>\n",
       "      <td>Nintendo</td>\n",
       "      <td>11.27</td>\n",
       "      <td>8.89</td>\n",
       "      <td>10.22</td>\n",
       "      <td>1.00</td>\n",
       "      <td>31.37</td>\n",
       "    </tr>\n",
       "    <tr>\n",
       "      <th>...</th>\n",
       "      <td>...</td>\n",
       "      <td>...</td>\n",
       "      <td>...</td>\n",
       "      <td>...</td>\n",
       "      <td>...</td>\n",
       "      <td>...</td>\n",
       "      <td>...</td>\n",
       "      <td>...</td>\n",
       "      <td>...</td>\n",
       "      <td>...</td>\n",
       "      <td>...</td>\n",
       "    </tr>\n",
       "    <tr>\n",
       "      <th>16593</th>\n",
       "      <td>16596</td>\n",
       "      <td>Woody Woodpecker in Crazy Castle 5</td>\n",
       "      <td>GBA</td>\n",
       "      <td>2002.0</td>\n",
       "      <td>Platform</td>\n",
       "      <td>Kemco</td>\n",
       "      <td>0.01</td>\n",
       "      <td>0.00</td>\n",
       "      <td>0.00</td>\n",
       "      <td>0.00</td>\n",
       "      <td>0.01</td>\n",
       "    </tr>\n",
       "    <tr>\n",
       "      <th>16594</th>\n",
       "      <td>16597</td>\n",
       "      <td>Men in Black II: Alien Escape</td>\n",
       "      <td>GC</td>\n",
       "      <td>2003.0</td>\n",
       "      <td>Shooter</td>\n",
       "      <td>Infogrames</td>\n",
       "      <td>0.01</td>\n",
       "      <td>0.00</td>\n",
       "      <td>0.00</td>\n",
       "      <td>0.00</td>\n",
       "      <td>0.01</td>\n",
       "    </tr>\n",
       "    <tr>\n",
       "      <th>16595</th>\n",
       "      <td>16598</td>\n",
       "      <td>SCORE International Baja 1000: The Official Game</td>\n",
       "      <td>PS2</td>\n",
       "      <td>2008.0</td>\n",
       "      <td>Racing</td>\n",
       "      <td>Activision</td>\n",
       "      <td>0.00</td>\n",
       "      <td>0.00</td>\n",
       "      <td>0.00</td>\n",
       "      <td>0.00</td>\n",
       "      <td>0.01</td>\n",
       "    </tr>\n",
       "    <tr>\n",
       "      <th>16596</th>\n",
       "      <td>16599</td>\n",
       "      <td>Know How 2</td>\n",
       "      <td>DS</td>\n",
       "      <td>2010.0</td>\n",
       "      <td>Puzzle</td>\n",
       "      <td>7G//AMES</td>\n",
       "      <td>0.00</td>\n",
       "      <td>0.01</td>\n",
       "      <td>0.00</td>\n",
       "      <td>0.00</td>\n",
       "      <td>0.01</td>\n",
       "    </tr>\n",
       "    <tr>\n",
       "      <th>16597</th>\n",
       "      <td>16600</td>\n",
       "      <td>Spirits &amp; Spells</td>\n",
       "      <td>GBA</td>\n",
       "      <td>2003.0</td>\n",
       "      <td>Platform</td>\n",
       "      <td>Wanadoo</td>\n",
       "      <td>0.01</td>\n",
       "      <td>0.00</td>\n",
       "      <td>0.00</td>\n",
       "      <td>0.00</td>\n",
       "      <td>0.01</td>\n",
       "    </tr>\n",
       "  </tbody>\n",
       "</table>\n",
       "<p>16598 rows × 11 columns</p>\n",
       "</div>"
      ],
      "text/plain": [
       "        Rank                                              Name Platform  \\\n",
       "0          1                                        Wii Sports      Wii   \n",
       "1          2                                 Super Mario Bros.      NES   \n",
       "2          3                                    Mario Kart Wii      Wii   \n",
       "3          4                                 Wii Sports Resort      Wii   \n",
       "4          5                          Pokemon Red/Pokemon Blue       GB   \n",
       "...      ...                                               ...      ...   \n",
       "16593  16596                Woody Woodpecker in Crazy Castle 5      GBA   \n",
       "16594  16597                     Men in Black II: Alien Escape       GC   \n",
       "16595  16598  SCORE International Baja 1000: The Official Game      PS2   \n",
       "16596  16599                                        Know How 2       DS   \n",
       "16597  16600                                  Spirits & Spells      GBA   \n",
       "\n",
       "         Year         Genre   Publisher  NA_Sales  EU_Sales  JP_Sales  \\\n",
       "0      2006.0        Sports    Nintendo     41.49     29.02      3.77   \n",
       "1      1985.0      Platform    Nintendo     29.08      3.58      6.81   \n",
       "2      2008.0        Racing    Nintendo     15.85     12.88      3.79   \n",
       "3      2009.0        Sports    Nintendo     15.75     11.01      3.28   \n",
       "4      1996.0  Role-Playing    Nintendo     11.27      8.89     10.22   \n",
       "...       ...           ...         ...       ...       ...       ...   \n",
       "16593  2002.0      Platform       Kemco      0.01      0.00      0.00   \n",
       "16594  2003.0       Shooter  Infogrames      0.01      0.00      0.00   \n",
       "16595  2008.0        Racing  Activision      0.00      0.00      0.00   \n",
       "16596  2010.0        Puzzle    7G//AMES      0.00      0.01      0.00   \n",
       "16597  2003.0      Platform     Wanadoo      0.01      0.00      0.00   \n",
       "\n",
       "       Other_Sales  Global_Sales  \n",
       "0             8.46         82.74  \n",
       "1             0.77         40.24  \n",
       "2             3.31         35.82  \n",
       "3             2.96         33.00  \n",
       "4             1.00         31.37  \n",
       "...            ...           ...  \n",
       "16593         0.00          0.01  \n",
       "16594         0.00          0.01  \n",
       "16595         0.00          0.01  \n",
       "16596         0.00          0.01  \n",
       "16597         0.00          0.01  \n",
       "\n",
       "[16598 rows x 11 columns]"
      ]
     },
     "execution_count": 463,
     "metadata": {},
     "output_type": "execute_result"
    }
   ],
   "source": [
    "vgs_ds = dt.read_csv('./input/vgsales.csv')\n",
    "vgs_ds"
   ]
  },
  {
   "cell_type": "markdown",
   "metadata": {},
   "source": [
    "*most common publisher*"
   ]
  },
  {
   "cell_type": "code",
   "execution_count": 464,
   "metadata": {},
   "outputs": [
    {
     "name": "stdout",
     "output_type": "stream",
     "text": [
      "<class 'str'>\n",
      "<class 'pandas.core.series.Series'>\n",
      "Electronic Arts\n"
     ]
    }
   ],
   "source": [
    "most_common_ds = vgs_ds.Publisher\n",
    "most_common_ds.mode()\n",
    "\n",
    "str = most_common_ds.value_counts().idxmax()\n",
    "print(type(str))\n",
    "str = most_common_ds.mode()\n",
    "print(type(str))\n",
    "print(*str,sep='\\n')"
   ]
  },
  {
   "cell_type": "markdown",
   "metadata": {},
   "source": [
    "*What’s the most common platform*"
   ]
  },
  {
   "cell_type": "code",
   "execution_count": 465,
   "metadata": {},
   "outputs": [
    {
     "name": "stdout",
     "output_type": "stream",
     "text": [
      "<class 'str'>\n",
      "<class 'pandas.core.series.Series'>\n",
      "DS\n"
     ]
    }
   ],
   "source": [
    "most_common_ds = vgs_ds.Platform\n",
    "str = most_common_ds.value_counts().idxmax()\n",
    "print(type(str))\n",
    "str = most_common_ds.mode()\n",
    "print(type(str))\n",
    "print(*str,sep='\\n')"
   ]
  },
  {
   "cell_type": "markdown",
   "metadata": {},
   "source": [
    "*What about the most common genre?*"
   ]
  },
  {
   "cell_type": "code",
   "execution_count": 466,
   "metadata": {},
   "outputs": [
    {
     "name": "stdout",
     "output_type": "stream",
     "text": [
      "<class 'str'>\n",
      "<class 'pandas.core.series.Series'>\n",
      "Action\n"
     ]
    }
   ],
   "source": [
    "most_common_ds = vgs_ds.Genre\n",
    "str = most_common_ds.value_counts().idxmax()\n",
    "print(type(str))\n",
    "str = most_common_ds.mode()\n",
    "print(type(str))\n",
    "print(*str,sep='\\n')"
   ]
  },
  {
   "cell_type": "markdown",
   "metadata": {},
   "source": [
    "*What are the top 20 highest grossing games*"
   ]
  },
  {
   "cell_type": "code",
   "execution_count": 467,
   "metadata": {},
   "outputs": [
    {
     "data": {
      "text/html": [
       "<div>\n",
       "<style scoped>\n",
       "    .dataframe tbody tr th:only-of-type {\n",
       "        vertical-align: middle;\n",
       "    }\n",
       "\n",
       "    .dataframe tbody tr th {\n",
       "        vertical-align: top;\n",
       "    }\n",
       "\n",
       "    .dataframe thead th {\n",
       "        text-align: right;\n",
       "    }\n",
       "</style>\n",
       "<table border=\"1\" class=\"dataframe\">\n",
       "  <thead>\n",
       "    <tr style=\"text-align: right;\">\n",
       "      <th></th>\n",
       "      <th>Name</th>\n",
       "    </tr>\n",
       "    <tr>\n",
       "      <th>Global_Sales</th>\n",
       "      <th></th>\n",
       "    </tr>\n",
       "  </thead>\n",
       "  <tbody>\n",
       "    <tr>\n",
       "      <th>82.74</th>\n",
       "      <td>Wii Sports</td>\n",
       "    </tr>\n",
       "    <tr>\n",
       "      <th>40.24</th>\n",
       "      <td>Super Mario Bros.</td>\n",
       "    </tr>\n",
       "    <tr>\n",
       "      <th>35.82</th>\n",
       "      <td>Mario Kart Wii</td>\n",
       "    </tr>\n",
       "    <tr>\n",
       "      <th>33.00</th>\n",
       "      <td>Wii Sports Resort</td>\n",
       "    </tr>\n",
       "    <tr>\n",
       "      <th>31.37</th>\n",
       "      <td>Pokemon Red/Pokemon Blue</td>\n",
       "    </tr>\n",
       "    <tr>\n",
       "      <th>30.26</th>\n",
       "      <td>Tetris</td>\n",
       "    </tr>\n",
       "    <tr>\n",
       "      <th>30.01</th>\n",
       "      <td>New Super Mario Bros.</td>\n",
       "    </tr>\n",
       "    <tr>\n",
       "      <th>29.02</th>\n",
       "      <td>Wii Play</td>\n",
       "    </tr>\n",
       "    <tr>\n",
       "      <th>28.62</th>\n",
       "      <td>New Super Mario Bros. Wii</td>\n",
       "    </tr>\n",
       "    <tr>\n",
       "      <th>28.31</th>\n",
       "      <td>Duck Hunt</td>\n",
       "    </tr>\n",
       "    <tr>\n",
       "      <th>24.76</th>\n",
       "      <td>Nintendogs</td>\n",
       "    </tr>\n",
       "    <tr>\n",
       "      <th>23.42</th>\n",
       "      <td>Mario Kart DS</td>\n",
       "    </tr>\n",
       "    <tr>\n",
       "      <th>23.10</th>\n",
       "      <td>Pokemon Gold/Pokemon Silver</td>\n",
       "    </tr>\n",
       "    <tr>\n",
       "      <th>22.72</th>\n",
       "      <td>Wii Fit</td>\n",
       "    </tr>\n",
       "    <tr>\n",
       "      <th>22.00</th>\n",
       "      <td>Wii Fit Plus</td>\n",
       "    </tr>\n",
       "    <tr>\n",
       "      <th>21.82</th>\n",
       "      <td>Kinect Adventures!</td>\n",
       "    </tr>\n",
       "    <tr>\n",
       "      <th>21.40</th>\n",
       "      <td>Grand Theft Auto V</td>\n",
       "    </tr>\n",
       "    <tr>\n",
       "      <th>20.81</th>\n",
       "      <td>Grand Theft Auto: San Andreas</td>\n",
       "    </tr>\n",
       "    <tr>\n",
       "      <th>20.61</th>\n",
       "      <td>Super Mario World</td>\n",
       "    </tr>\n",
       "    <tr>\n",
       "      <th>20.22</th>\n",
       "      <td>Brain Age: Train Your Brain in Minutes a Day</td>\n",
       "    </tr>\n",
       "  </tbody>\n",
       "</table>\n",
       "</div>"
      ],
      "text/plain": [
       "                                                      Name\n",
       "Global_Sales                                              \n",
       "82.74                                           Wii Sports\n",
       "40.24                                    Super Mario Bros.\n",
       "35.82                                       Mario Kart Wii\n",
       "33.00                                    Wii Sports Resort\n",
       "31.37                             Pokemon Red/Pokemon Blue\n",
       "30.26                                               Tetris\n",
       "30.01                                New Super Mario Bros.\n",
       "29.02                                             Wii Play\n",
       "28.62                            New Super Mario Bros. Wii\n",
       "28.31                                            Duck Hunt\n",
       "24.76                                           Nintendogs\n",
       "23.42                                        Mario Kart DS\n",
       "23.10                          Pokemon Gold/Pokemon Silver\n",
       "22.72                                              Wii Fit\n",
       "22.00                                         Wii Fit Plus\n",
       "21.82                                   Kinect Adventures!\n",
       "21.40                                   Grand Theft Auto V\n",
       "20.81                        Grand Theft Auto: San Andreas\n",
       "20.61                                    Super Mario World\n",
       "20.22         Brain Age: Train Your Brain in Minutes a Day"
      ]
     },
     "execution_count": 467,
     "metadata": {},
     "output_type": "execute_result"
    }
   ],
   "source": [
    "most_common_ds = vgs_ds.sort_values('Global_Sales', ascending=False)\n",
    "str = most_common_ds.head(20)[['Name','Global_Sales']].set_index(\"Global_Sales\")\n",
    "\n",
    "str"
   ]
  },
  {
   "cell_type": "code",
   "execution_count": 468,
   "metadata": {},
   "outputs": [
    {
     "data": {
      "text/plain": [
       "Global_Sales\n",
       "82.74                                      Wii Sports\n",
       "40.24                               Super Mario Bros.\n",
       "35.82                                  Mario Kart Wii\n",
       "33.00                               Wii Sports Resort\n",
       "31.37                        Pokemon Red/Pokemon Blue\n",
       "30.26                                          Tetris\n",
       "30.01                           New Super Mario Bros.\n",
       "29.02                                        Wii Play\n",
       "28.62                       New Super Mario Bros. Wii\n",
       "28.31                                       Duck Hunt\n",
       "24.76                                      Nintendogs\n",
       "23.42                                   Mario Kart DS\n",
       "23.10                     Pokemon Gold/Pokemon Silver\n",
       "22.72                                         Wii Fit\n",
       "22.00                                    Wii Fit Plus\n",
       "21.82                              Kinect Adventures!\n",
       "21.40                              Grand Theft Auto V\n",
       "20.81                   Grand Theft Auto: San Andreas\n",
       "20.61                               Super Mario World\n",
       "20.22    Brain Age: Train Your Brain in Minutes a Day\n",
       "Name: Name, dtype: object"
      ]
     },
     "execution_count": 468,
     "metadata": {},
     "output_type": "execute_result"
    }
   ],
   "source": [
    "most_common_ds = vgs_ds.set_index(\"Global_Sales\") \n",
    "vgs_ds.sort_index()\n",
    "\n",
    "str = most_common_ds.head(20).Name\n",
    "\n",
    "str"
   ]
  },
  {
   "cell_type": "markdown",
   "metadata": {},
   "source": [
    "For North American video game sales, what’s the median?\n",
    "\n",
    "Provide a secondary output showing ten games surrounding the median sales output\n",
    "\n",
    "assume that games with same median value are sorted in descending order"
   ]
  },
  {
   "cell_type": "code",
   "execution_count": 469,
   "metadata": {},
   "outputs": [
    {
     "name": "stdout",
     "output_type": "stream",
     "text": [
      "Dragon Warrior IV\n",
      "World Soccer Winning Eleven 7 International\n",
      "Farming Simulator 2015\n",
      "Pro Evolution Soccer 2008\n",
      "Winning Eleven: Pro Evolution Soccer 2007 (All Region sales)\n",
      "Phantasy Star Portable 2\n",
      "The Sims 2: Castaway\n",
      "SingStar Queen\n",
      "Top Spin 3\n",
      "Sonic & All-Stars Racing Transformed\n"
     ]
    }
   ],
   "source": [
    "\n",
    "most_common_ds = vgs_ds.NA_Sales\n",
    "na_games_sales_median = most_common_ds.median()\n",
    "na_games_sales_median\n",
    "\n",
    "surrounding_the_median = vgs_ds.NA_Sales\n",
    "\n",
    "less_median = vgs_ds[vgs_ds.NA_Sales < na_games_sales_median ].Name.head(5)\n",
    "greater_meadian = vgs_ds[vgs_ds.NA_Sales > na_games_sales_median ].Name.head(5)\n",
    "\n",
    "around = vgs_ds[vgs_ds.NA_Sales == na_games_sales_median ].Name.head(10)\n",
    "\n",
    "print(*around,sep=\"\\n\")\n"
   ]
  },
  {
   "cell_type": "markdown",
   "metadata": {},
   "source": [
    "*For the top-selling game of all time, \n",
    "\n",
    "how many standard deviations \n",
    "\n",
    "above/below \n",
    "\n",
    "the `mean` \n",
    "\n",
    "are its sales for North America?*"
   ]
  },
  {
   "cell_type": "code",
   "execution_count": 470,
   "metadata": {},
   "outputs": [
    {
     "data": {
      "text/plain": [
       "Global_Sales\n",
       "82.74    50.478988\n",
       "Name: NA_Sales, dtype: float64"
      ]
     },
     "execution_count": 470,
     "metadata": {},
     "output_type": "execute_result"
    }
   ],
   "source": [
    "# For the top-selling game of all time\n",
    "top_selling = vgs_ds.set_index(\"Global_Sales\")\n",
    "top_selling\n",
    "\n",
    "mean = top_selling.NA_Sales.mean()\n",
    "mean\n",
    "\n",
    "top_sellig_game = top_selling.NA_Sales.head(1)\n",
    "top_sellig_game\n",
    "\n",
    "std_na_sales = vgs_ds.NA_Sales.std()\n",
    "std_na_sales\n",
    "\n",
    "\n",
    "stds_na_sales_count = ((top_sellig_game - mean) / std_na_sales)\n",
    "stds_na_sales_count\n"
   ]
  },
  {
   "cell_type": "markdown",
   "metadata": {},
   "source": [
    "# The Nintendo Wii seems to have outdone itself with games. \n",
    "## How does its average number of sales compare with all of the other platforms?"
   ]
  },
  {
   "cell_type": "code",
   "execution_count": 471,
   "metadata": {},
   "outputs": [
    {
     "name": "stdout",
     "output_type": "stream",
     "text": [
      "0.17601413173327207\n"
     ]
    }
   ],
   "source": [
    "wii = vgs_ds.loc[vgs_ds.Platform == 'Wii']\n",
    "wii_sales_avrg = wii.Global_Sales.mean()\n",
    "# avarage value of all Wii platform sales globaly \n",
    "\n",
    "\n",
    "all_other = vgs_ds.loc[vgs_ds.Platform != 'Wii']\n",
    "all_other_avrg = all_other.Global_Sales.mean()\n",
    "# avarage value of all Wii platform sales globaly \n",
    "\n",
    "all = [wii_sales_avrg,all_other_avrg]\n",
    "\n",
    "all\n",
    "\n",
    "print(wii_sales_avrg - all_other_avrg)\n",
    "\n",
    "\n"
   ]
  },
  {
   "cell_type": "code",
   "execution_count": 472,
   "metadata": {},
   "outputs": [
    {
     "data": {
      "text/plain": [
       "6465    2015.0\n",
       "Name: Year, dtype: float64"
      ]
     },
     "execution_count": 472,
     "metadata": {},
     "output_type": "execute_result"
    }
   ],
   "source": [
    "wii = vgs_ds.loc[vgs_ds.Platform == 'Wii']\n",
    "wii_sales_avrg = wii.Global_Sales.mean()\n",
    "wii_by_year = wii.sort_values('Year', ascending=False)\n",
    "\n",
    "to_year = wii_by_year.head(1).Year\n",
    "to_year"
   ]
  },
  {
   "cell_type": "code",
   "execution_count": 473,
   "metadata": {},
   "outputs": [
    {
     "data": {
      "image/png": "[encoded data removed]",
      "text/plain": [
       "<Figure size 432x576 with 1 Axes>"
      ]
     },
     "metadata": {
      "needs_background": "light"
     },
     "output_type": "display_data"
    }
   ],
   "source": [
    "platform=dt.DataFrame(vgs_ds.Platform.value_counts())\n",
    "platform.reset_index(inplace=True)\n",
    "platform.rename(columns={'Platform': 'Number of Games', 'index': 'Platform'},inplace=True)\n",
    "platform.drop(platform.index[20:],inplace=True)\n",
    "platform.sort_values('Number of Games',inplace=True)\n",
    "plt.figure(figsize=(6,8))\n",
    "plt.barh(platform.Platform,platform['Number of Games'],height=0.5)\n",
    "plt.title('Number of Games Across Platform',fontsize=16)\n",
    "plt.show()"
   ]
  },
  {
   "cell_type": "code",
   "execution_count": 474,
   "metadata": {},
   "outputs": [],
   "source": [
    "# def test():\n",
    "\n",
    "#     def assert_equal(actual,expected):\n",
    "#         assert actual == expected, f\"Expected {expected} but got {actual}\"\n",
    "\n",
    "#     assert_equal(most_common_publisher, \"Electronic Arts\")\n",
    "#     assert_equal(most_common_platform, None)\n",
    "#     assert_equal(most_common_genre, None)\n",
    "#     assert_equal(top_twenty_highest_grossing_games.iloc[0].Name, None)\n",
    "#     assert_equal(top_twenty_highest_grossing_games.iloc[19].Name, None)\n",
    "#     assert_equal(na_median_sales, None)\n",
    "#     assert_equal(ten_median_na_seller_names, None)\n",
    "\n",
    "#     print(\"Success!!!\")"
   ]
  }
 ],
 "metadata": {
  "interpreter": {
   "hash": "46b406173729c5ce311c197c5443d66b0ca55e881f1dade426f8a3397eb22e73"
  },
  "kernelspec": {
   "display_name": "Python 3.9.7 64-bit ('cls12-dpMWS5vn-py3.9': poetry)",
   "name": "python3"
  },
  "language_info": {
   "codemirror_mode": {
    "name": "ipython",
    "version": 3
   },
   "file_extension": ".py",
   "mimetype": "text/x-python",
   "name": "python",
   "nbconvert_exporter": "python",
   "pygments_lexer": "ipython3",
   "version": "3.9.7"
  },
  "orig_nbformat": 4
 },
 "nbformat": 4,
 "nbformat_minor": 2
}
