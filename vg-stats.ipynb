{
 "cells": [
  {
   "cell_type": "markdown",
   "metadata": {},
   "source": [
    "# Data Analysis with Pandas\n",
    "## Dataset : vgs_ds\n",
    "## Odeh Abuzaid\n",
    "## 25/10/2021"
   ]
  },
  {
   "cell_type": "code",
   "execution_count": 1,
   "metadata": {},
   "outputs": [],
   "source": [
    "import pandas as dt\n",
    "import matplotlib.pyplot as plt\n",
    "import numpy as np"
   ]
  },
  {
   "cell_type": "code",
   "execution_count": 2,
   "metadata": {},
   "outputs": [],
   "source": [
    "vgs_ds = dt.read_csv('./input/vgsales.csv')"
   ]
  },
  {
   "cell_type": "markdown",
   "metadata": {},
   "source": [
    "*most common publisher*"
   ]
  },
  {
   "cell_type": "code",
   "execution_count": 3,
   "metadata": {},
   "outputs": [],
   "source": [
    "publishers = vgs_ds.Publisher\n",
    "most_common_publisher = publishers.mode().values[0]"
   ]
  },
  {
   "cell_type": "markdown",
   "metadata": {},
   "source": [
    "*What’s the most common platform*"
   ]
  },
  {
   "cell_type": "code",
   "execution_count": 4,
   "metadata": {},
   "outputs": [],
   "source": [
    "platforms = vgs_ds.Platform\n",
    "most_common_platform = platforms.mode().values[0]"
   ]
  },
  {
   "cell_type": "markdown",
   "metadata": {},
   "source": [
    "*What about the most common genre?*"
   ]
  },
  {
   "cell_type": "code",
   "execution_count": 5,
   "metadata": {},
   "outputs": [],
   "source": [
    "most_common_ds = vgs_ds.Genre\n",
    "most_common_genre = most_common_ds.mode().values[0]"
   ]
  },
  {
   "cell_type": "markdown",
   "metadata": {},
   "source": [
    "*What are the top 20 highest grossing games*"
   ]
  },
  {
   "cell_type": "code",
   "execution_count": 6,
   "metadata": {},
   "outputs": [],
   "source": [
    "highest_grossing_games = vgs_ds.sort_values('Global_Sales', ascending=False)\n",
    "top_twenty_highest_grossing_games = highest_grossing_games.head(20)[['Name','Global_Sales']].set_index(\"Global_Sales\")"
   ]
  },
  {
   "cell_type": "code",
   "execution_count": 7,
   "metadata": {},
   "outputs": [],
   "source": [
    "most_common_ds = vgs_ds.set_index(\"Global_Sales\") \n",
    "vgs_ds.sort_index()\n",
    "top_twenty_highest_grossing_games = most_common_ds.head(20)"
   ]
  },
  {
   "cell_type": "markdown",
   "metadata": {},
   "source": [
    "For North American video game sales, what’s the median?\n",
    "\n",
    "Provide a secondary output showing ten games surrounding the median sales output\n",
    "\n",
    "assume that games with same median value are sorted in descending order"
   ]
  },
  {
   "cell_type": "code",
   "execution_count": 8,
   "metadata": {},
   "outputs": [],
   "source": [
    "\n",
    "most_common_ds = vgs_ds.NA_Sales\n",
    "na_games_sales_median = most_common_ds.median()\n",
    "surrounding_the_median = vgs_ds.NA_Sales\n",
    "less_median = vgs_ds[vgs_ds.NA_Sales < na_games_sales_median ].Name.head(5)\n",
    "greater_meadian = vgs_ds[vgs_ds.NA_Sales > na_games_sales_median ].Name.head(5)\n",
    "na_games_sales_Names = vgs_ds[vgs_ds.NA_Sales == na_games_sales_median ].Name.head(10)\n"
   ]
  },
  {
   "cell_type": "markdown",
   "metadata": {},
   "source": [
    "*For the top-selling game of all time,how many standard deviations ? above/below the `mean` are its sales for North America?*"
   ]
  },
  {
   "cell_type": "code",
   "execution_count": 9,
   "metadata": {},
   "outputs": [],
   "source": [
    "\n",
    "top_selling = vgs_ds.set_index(\"Global_Sales\")\n",
    "mean = top_selling.NA_Sales.mean()\n",
    "top_sellig_game = top_selling.NA_Sales.iloc[0]\n",
    "std_na_sales = vgs_ds.NA_Sales.std()\n",
    "stds_na_sales_count = ((top_sellig_game - mean) / std_na_sales)"
   ]
  },
  {
   "cell_type": "markdown",
   "metadata": {},
   "source": [
    "*The Nintendo Wii seems to have outdone itself with games.*\n",
    "\n",
    "*How does its average number of sales compare with all of the other platforms?*"
   ]
  },
  {
   "cell_type": "code",
   "execution_count": 10,
   "metadata": {},
   "outputs": [],
   "source": [
    "wii = vgs_ds.loc[vgs_ds.Platform == 'Wii']\n",
    "wii_sales_avrg = wii.Global_Sales.mean()\n",
    "all_other = vgs_ds.loc[vgs_ds.Platform != 'Wii']\n",
    "all_other_avrg = all_other.Global_Sales.mean()\n",
    "nontido_sales_compared_with_all =wii_sales_avrg-all_other_avrg"
   ]
  },
  {
   "cell_type": "markdown",
   "metadata": {},
   "source": [
    "*What are the Top 5 Games for Each Genre*"
   ]
  },
  {
   "cell_type": "code",
   "execution_count": 11,
   "metadata": {},
   "outputs": [],
   "source": [
    "df=vgs_ds.groupby(['Genre'])\n",
    "t_five_games_by_genre = {}\n",
    "for genre,games in df:\n",
    "    games=round(games.groupby(['Name']).sum(),2)\n",
    "    games.reset_index(inplace=True)\n",
    "    games.sort_values(['Global_Sales'],inplace=True)\n",
    "    games=games.iloc[len(games)-5:]\n",
    "    t_five_games_by_genre[genre] = []\n",
    "    for game in games.Name:\n",
    "        t_five_games_by_genre[genre].append(game)\n",
    "dfObj = dt.DataFrame.from_dict(t_five_games_by_genre)"
   ]
  },
  {
   "cell_type": "markdown",
   "metadata": {},
   "source": [
    "*What is the total sales for Top 5 Games in Action genre*"
   ]
  },
  {
   "cell_type": "code",
   "execution_count": 12,
   "metadata": {},
   "outputs": [],
   "source": [
    "top_five_games = vgs_ds.loc[vgs_ds.Genre == 'Sports']\n",
    "top_five_games.sort_values(by=[\"Global_Sales\"]).head(5)\n",
    "total_sales_top_five_action = top_five_games[\"Global_Sales\"].sum()"
   ]
  },
  {
   "cell_type": "markdown",
   "metadata": {},
   "source": [
    "*Total number of Mario Games series all the time*"
   ]
  },
  {
   "cell_type": "code",
   "execution_count": 13,
   "metadata": {},
   "outputs": [],
   "source": [
    "\n",
    "mario_game_series = vgs_ds.loc[vgs_ds[\"Name\"].str.contains('Mario')]\n",
    "count_of_mario_game = len(mario_game_series)"
   ]
  },
  {
   "cell_type": "code",
   "execution_count": 14,
   "metadata": {},
   "outputs": [],
   "source": [
    "def test():\n",
    "\n",
    "    def assert_equal(actual,expected):\n",
    "        assert actual == expected, f\"Expected {expected} but got {actual}\"\n",
    "\n",
    "    assert_equal(most_common_publisher, \"Electronic Arts\")\n",
    "    assert_equal(most_common_platform, 'DS')\n",
    "    assert_equal(most_common_genre, 'Action')\n",
    "    assert_equal(top_twenty_highest_grossing_games.iloc[0].Name, 'Wii Sports')\n",
    "    assert_equal(top_twenty_highest_grossing_games.iloc[19].Name, 'Brain Age: Train Your Brain in Minutes a Day')\n",
    "    assert_equal(na_games_sales_Names.iloc[0], 'Dragon Warrior IV')\n",
    "    assert_equal(na_games_sales_median, 0.08)\n",
    "    assert_equal(stds_na_sales_count, 50.47898767479108)\n",
    "    assert_equal(nontido_sales_compared_with_all, 0.17601413173327207)\n",
    "    assert_equal(total_sales_top_five_action, 1330.93)\n",
    "    assert_equal(count_of_mario_game, 113)\n",
    "    print(\"Success!!!\")"
   ]
  },
  {
   "cell_type": "code",
   "execution_count": 15,
   "metadata": {},
   "outputs": [
    {
     "name": "stdout",
     "output_type": "stream",
     "text": [
      "Success!!!\n"
     ]
    }
   ],
   "source": [
    "test()"
   ]
  }
 ],
 "metadata": {
  "interpreter": {
   "hash": "46b406173729c5ce311c197c5443d66b0ca55e881f1dade426f8a3397eb22e73"
  },
  "kernelspec": {
   "display_name": "Python 3.9.7 64-bit ('cls12-dpMWS5vn-py3.9': poetry)",
   "name": "python3"
  },
  "language_info": {
   "codemirror_mode": {
    "name": "ipython",
    "version": 3
   },
   "file_extension": ".py",
   "mimetype": "text/x-python",
   "name": "python",
   "nbconvert_exporter": "python",
   "pygments_lexer": "ipython3",
   "version": "3.9.7"
  },
  "orig_nbformat": 4
 },
 "nbformat": 4,
 "nbformat_minor": 2
}
